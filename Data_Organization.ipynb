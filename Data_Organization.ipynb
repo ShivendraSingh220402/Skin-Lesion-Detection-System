{
 "cells": [
  {
   "cell_type": "code",
   "execution_count": 21,
   "id": "835e174e",
   "metadata": {},
   "outputs": [],
   "source": [
    "import os\n",
    "import pandas as pd\n",
    "import shutil\n",
    "\n",
    "# Path to the HAM10000 dataset directory where all images are located\n",
    "dataset_dir = 'DataSet\\Images'  \n",
    "\n",
    "# Path to the Excel sheet containing image names and their types\n",
    "excel_file = 'DataSet\\HAM.csv'  # Update with the actual file name\n",
    "\n",
    "# Load the Excel sheet into a Pandas DataFrame\n",
    "df = pd.read_csv(excel_file)"
   ]
  },
  {
   "cell_type": "code",
   "execution_count": 22,
   "id": "48b9497a",
   "metadata": {},
   "outputs": [
    {
     "name": "stdout",
     "output_type": "stream",
     "text": [
      "Images have been organized into folders based on their types.\n"
     ]
    }
   ],
   "source": [
    "for index, row in df.iterrows():\n",
    "    image_name = row['image_id']  # Replace 'ImageName' with the actual column name in your Excel sheet\n",
    "    image_type = row['dx']  # Replace 'Type' with the actual column name in your Excel sheet\n",
    "\n",
    "    # Create a directory for the image type if it doesn't exist\n",
    "    type_dir = os.path.join(dataset_dir, image_type)\n",
    "    os.makedirs(type_dir, exist_ok=True)\n",
    "\n",
    "    # Construct the source and destination paths\n",
    "    source_path = os.path.join(dataset_dir, f'{image_name}.jpg')\n",
    "    destination_path = os.path.join(type_dir,f'{image_name}.jpg')\n",
    "\n",
    "    # Move the image to its respective folder\n",
    "    shutil.move(source_path, destination_path)\n",
    "\n",
    "print(\"Images have been organized into folders based on their types.\")"
   ]
  },
  {
   "cell_type": "code",
   "execution_count": 23,
   "id": "e8d36ced",
   "metadata": {},
   "outputs": [
    {
     "name": "stdout",
     "output_type": "stream",
     "text": [
      "['akiec', 'bcc', 'bkl', 'df', 'mel', 'nv', 'vasc']\n",
      "Dataset split into train, test, and validation sets within each subfolder.\n"
     ]
    }
   ],
   "source": [
    "import os\n",
    "import shutil\n",
    "import random\n",
    "\n",
    "# Set the source directory where your dataset is located\n",
    "source_dir = r'C:\\Users\\SHIVENDRA\\Documents\\Minnor Project\\DataSet\\Images'\n",
    "print(os.listdir(source_dir))\n",
    "\n",
    "# Set the desired ratios (70:15:15)\n",
    "train_ratio = 0.7\n",
    "test_ratio = 0.15\n",
    "val_ratio = 0.15\n",
    "\n",
    "for skin_type in os.listdir(source_dir):\n",
    "    skin_type_path = os.path.join(source_dir, skin_type)\n",
    "    \n",
    "    # List all images in the current subfolder\n",
    "    images = os.listdir(skin_type_path)\n",
    "    \n",
    "    # Shuffle the images randomly\n",
    "    random.shuffle(images)\n",
    "    \n",
    "    # Calculate the number of images for each split\n",
    "    total_images = len(images)\n",
    "    num_train = int(total_images * train_ratio)\n",
    "    num_test = int(total_images * test_ratio)\n",
    "    num_val = total_images - num_train - num_test\n",
    "    \n",
    "    # Create destination subdirectories for train, test, and validation\n",
    "    train_skin_dir = os.path.join(skin_type_path, 'train')\n",
    "    test_skin_dir = os.path.join(skin_type_path, 'test')\n",
    "    val_skin_dir = os.path.join(skin_type_path, 'validation')\n",
    "    \n",
    "    os.makedirs(train_skin_dir, exist_ok=True)\n",
    "    os.makedirs(test_skin_dir, exist_ok=True)\n",
    "    os.makedirs(val_skin_dir, exist_ok=True)\n",
    "    \n",
    "    # Split the images and copy them to the respective directories\n",
    "    train_images = images[:num_train]\n",
    "    test_images = images[num_train:num_train+num_test]\n",
    "    val_images = images[num_train+num_test:]\n",
    "    \n",
    "    for img in train_images:\n",
    "        src_path = os.path.join(skin_type_path, img)\n",
    "        dest_path = os.path.join(train_skin_dir, img)\n",
    "        shutil.copy(src_path, dest_path)\n",
    "    \n",
    "    for img in test_images:\n",
    "        src_path = os.path.join(skin_type_path, img)\n",
    "        dest_path = os.path.join(test_skin_dir, img)\n",
    "        shutil.copy(src_path, dest_path)\n",
    "    \n",
    "    for img in val_images:\n",
    "        src_path = os.path.join(skin_type_path, img)\n",
    "        dest_path = os.path.join(val_skin_dir, img)\n",
    "        shutil.copy(src_path, dest_path)\n",
    "\n",
    "print(\"Dataset split into train, test, and validation sets within each subfolder.\")\n"
   ]
  }
 ],
 "metadata": {
  "kernelspec": {
   "display_name": "Python 3 (ipykernel)",
   "language": "python",
   "name": "python3"
  },
  "language_info": {
   "codemirror_mode": {
    "name": "ipython",
    "version": 3
   },
   "file_extension": ".py",
   "mimetype": "text/x-python",
   "name": "python",
   "nbconvert_exporter": "python",
   "pygments_lexer": "ipython3",
   "version": "3.9.11"
  }
 },
 "nbformat": 4,
 "nbformat_minor": 5
}
